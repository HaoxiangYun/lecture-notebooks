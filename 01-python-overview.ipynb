{
  "nbformat": 4,
  "nbformat_minor": 0,
  "metadata": {
    "colab": {
      "name": "01-python-overview.ipynb",
      "provenance": [],
      "collapsed_sections": [],
      "authorship_tag": "ABX9TyNt5HUpVEHyrX37gqBHPaHt",
      "include_colab_link": true
    },
    "kernelspec": {
      "name": "python3",
      "display_name": "Python 3"
    }
  },
  "cells": [
    {
      "cell_type": "markdown",
      "metadata": {
        "id": "view-in-github",
        "colab_type": "text"
      },
      "source": [
        "<a href=\"https://colab.research.google.com/github/fdluiuc/lecture-notebooks/blob/master/01-python-overview.ipynb\" target=\"_parent\"><img src=\"https://colab.research.google.com/assets/colab-badge.svg\" alt=\"Open In Colab\"/></a>"
      ]
    },
    {
      "cell_type": "markdown",
      "metadata": {
        "id": "i2sBiAtbD1Aq",
        "colab_type": "text"
      },
      "source": [
        "This course notebook is based upon material from:\n",
        "\n",
        "\n",
        "1.   <https://colab.research.google.com/notebooks/intro.ipynb>\n",
        "2.   <https://colab.research.google.com/notebooks/basic_features_overview.ipynb>\n",
        "3. <https://colab.research.google.com/notebooks/markdown_guide.ipynb>\n",
        "\n",
        "\n",
        "\n",
        "\n"
      ]
    },
    {
      "cell_type": "markdown",
      "metadata": {
        "id": "Rzh-UXuYEERm",
        "colab_type": "text"
      },
      "source": [
        "# Cells\n",
        "Colab/Jupyter Notebooks are a series of cells combined together. Each cell may contain either **text** or **code**. To edit a cell, **double-click** on the cell. \n",
        "\n",
        "**Text** may be stylized using [markdown](https://colab.research.google.com/notebooks/markdown_guide.ipynb). **Code** must be written in the runtime language associated with the notebook. The exception to this rule is initializing system commands. More later!\n",
        "\n",
        "To view all shortcuts available in Google Colab press: `Cmd/Cntrl` + `M` + `H`"
      ]
    },
    {
      "cell_type": "markdown",
      "metadata": {
        "id": "o1SxlBz3EPPs",
        "colab_type": "text"
      },
      "source": [
        "## Text Cells\n",
        "\n",
        "Within a **text cell**, [LaTeX](http://www.latex-project.org/) and [markdown]() can be used. As you type, there will be a preview appearing on the far right. \n",
        "\n",
        "Recall, the different LaTeX styling equation:\n",
        "\n",
        "- **Inline:** `$c = \\sqrt{a^2 + b^c}$` becomes $c = \\sqrt{a^2 + b^c}.$\n",
        "- **Display mode:** `$$c = \\sqrt{a^2 + b^c}$$` becomes $$c = \\sqrt{a^2 + b^c}.$$"
      ]
    },
    {
      "cell_type": "markdown",
      "metadata": {
        "id": "5xL2FGj2Dw-0",
        "colab_type": "text"
      },
      "source": [
        "## Code Cells\n",
        "Below is a **code cell**. Once the toolbar button indicates CONNECTED, click in the cell to select it and execute the contents in the following ways:\n",
        "\n",
        "* Click the **Play icon** in the left gutter of the cell;\n",
        "* Type **Cmd/Ctrl+Enter** to run the cell in place;\n",
        "* Type **Shift+Enter** to run the cell and move focus to the next cell (adding one if none exists); or\n",
        "* Type **Alt+Enter** to run the cell and insert a new code cell immediately below it.\n",
        "\n",
        "There are additional options for running some or all cells in the **Runtime** menu. Additional keyboard shortcuts can be found by calling the one-keyboard-shortcut that rules them all: **Cntrl/Cmd** + **M** + **H**\n"
      ]
    },
    {
      "cell_type": "code",
      "metadata": {
        "id": "DAln6xG4MA65",
        "colab_type": "code",
        "colab": {
          "base_uri": "https://localhost:8080/",
          "height": 34
        },
        "outputId": "49dfd44c-560a-4a0c-e431-4a055df171f0"
      },
      "source": [
        "try:\n",
        "    from google.colab import drive\n",
        "    print(\"We're on Google Colab! =)\")\n",
        "except:\n",
        "    print(\"We're not using Google Colab... :(\")\n"
      ],
      "execution_count": 22,
      "outputs": [
        {
          "output_type": "stream",
          "text": [
            "We're on Google Colab! =)\n"
          ],
          "name": "stdout"
        }
      ]
    },
    {
      "cell_type": "markdown",
      "metadata": {
        "id": "Auwe5rCe0hPp",
        "colab_type": "text"
      },
      "source": [
        "\n",
        "# Overview of the Python language\n",
        "\n",
        "Example assignment\n",
        "\n"
      ]
    },
    {
      "cell_type": "code",
      "metadata": {
        "id": "RF_LXMjh0VHd",
        "colab_type": "code",
        "colab": {}
      },
      "source": [
        "# Declare variables\n",
        "x = 1\n",
        "y = 2\n"
      ],
      "execution_count": 0,
      "outputs": []
    },
    {
      "cell_type": "code",
      "metadata": {
        "id": "5WigPisf0ZJC",
        "colab_type": "code",
        "outputId": "e2d7c690-8c2a-4aeb-8db8-f1ab3b1e91e2",
        "colab": {
          "base_uri": "https://localhost:8080/",
          "height": 34
        }
      },
      "source": [
        "# Add values \n",
        "x + y"
      ],
      "execution_count": 0,
      "outputs": [
        {
          "output_type": "execute_result",
          "data": {
            "text/plain": [
              "3"
            ]
          },
          "metadata": {
            "tags": []
          },
          "execution_count": 8
        }
      ]
    },
    {
      "cell_type": "code",
      "metadata": {
        "id": "jpv1MWsD0e1K",
        "colab_type": "code",
        "colab": {}
      },
      "source": [
        "# Combine values\n",
        "z = [x, y]"
      ],
      "execution_count": 0,
      "outputs": []
    },
    {
      "cell_type": "code",
      "metadata": {
        "id": "xzyBs7aa-07U",
        "colab_type": "code",
        "outputId": "af952126-d18c-4ebf-cbbc-362c9dc44ab2",
        "colab": {
          "base_uri": "https://localhost:8080/",
          "height": 34
        }
      },
      "source": [
        "# Output values in z\n",
        "print(z)"
      ],
      "execution_count": 0,
      "outputs": [
        {
          "output_type": "stream",
          "text": [
            "[1, 2]\n"
          ],
          "name": "stdout"
        }
      ]
    },
    {
      "cell_type": "code",
      "metadata": {
        "id": "VuNowQLY0ec9",
        "colab_type": "code",
        "outputId": "7c3e5104-0e8a-4d74-cae3-6c9784e8dc9f",
        "colab": {
          "base_uri": "https://localhost:8080/",
          "height": 34
        }
      },
      "source": [
        "# Add up all values\n",
        "sum(z)"
      ],
      "execution_count": 0,
      "outputs": [
        {
          "output_type": "execute_result",
          "data": {
            "text/plain": [
              "3"
            ]
          },
          "metadata": {
            "tags": []
          },
          "execution_count": 12
        }
      ]
    },
    {
      "cell_type": "markdown",
      "metadata": {
        "id": "6hSmVJasLySe",
        "colab_type": "text"
      },
      "source": [
        "## Errors\n",
        "There shalt be errors and that's okay."
      ]
    },
    {
      "cell_type": "code",
      "metadata": {
        "id": "G3ORjxHbLecX",
        "colab_type": "code",
        "colab": {
          "base_uri": "https://localhost:8080/",
          "height": 198
        },
        "outputId": "59856d39-de9b-4bdb-f501-6d51a8957a21"
      },
      "source": [
        "# Number of Students (lower case)\n",
        "n_students = 97 \n",
        "\n",
        "# Show the value of `n_students`\n",
        "n_students\n",
        "# [1] 97\n",
        "\n",
        "# Try retrieving the value with a variable name in UPPER CASE\n",
        "N_STUDENTS"
      ],
      "execution_count": 21,
      "outputs": [
        {
          "output_type": "error",
          "ename": "NameError",
          "evalue": "ignored",
          "traceback": [
            "\u001b[0;31m---------------------------------------------------------------------------\u001b[0m",
            "\u001b[0;31mNameError\u001b[0m                                 Traceback (most recent call last)",
            "\u001b[0;32m<ipython-input-21-e24640404c55>\u001b[0m in \u001b[0;36m<module>\u001b[0;34m()\u001b[0m\n\u001b[1;32m      6\u001b[0m \u001b[0;34m\u001b[0m\u001b[0m\n\u001b[1;32m      7\u001b[0m \u001b[0;31m# Try retrieving the value with a variable name in UPPER CASE\u001b[0m\u001b[0;34m\u001b[0m\u001b[0;34m\u001b[0m\u001b[0;34m\u001b[0m\u001b[0m\n\u001b[0;32m----> 8\u001b[0;31m \u001b[0mN_STUDENTS\u001b[0m\u001b[0;34m\u001b[0m\u001b[0;34m\u001b[0m\u001b[0m\n\u001b[0m",
            "\u001b[0;31mNameError\u001b[0m: name 'N_STUDENTS' is not defined"
          ]
        }
      ]
    },
    {
      "cell_type": "code",
      "metadata": {
        "id": "LTNuFIniLdor",
        "colab_type": "code",
        "colab": {}
      },
      "source": [
        ""
      ],
      "execution_count": 0,
      "outputs": []
    },
    {
      "cell_type": "markdown",
      "metadata": {
        "id": "CNexOTIdJ2u1",
        "colab_type": "text"
      },
      "source": [
        "# Data Types\n",
        "\n"
      ]
    },
    {
      "cell_type": "code",
      "metadata": {
        "id": "z4yZT1zxNupn",
        "colab_type": "code",
        "colab": {}
      },
      "source": [
        "# Numeric / floating point, e.g. -77.391, -8.542, 0.0, 10.5, 47.66\n",
        "num_val = 3.14\n",
        "\n",
        "# Integer / whole numbers, e.g. -58, -1, 0, 3, 99\n",
        "int_val = -2\n",
        "\n",
        "# Logical / boolean, e.g. True, False\n",
        "logical_val = True\n",
        "\n",
        "# Character / string, e.g. \"hello\", 'goodbye' \n",
        "char_val = \"You're in STAT 430 - FDL @ UIUC\""
      ],
      "execution_count": 0,
      "outputs": []
    },
    {
      "cell_type": "markdown",
      "metadata": {
        "id": "CAkNqPcHKOH9",
        "colab_type": "text"
      },
      "source": [
        "# Functions"
      ]
    },
    {
      "cell_type": "code",
      "metadata": {
        "id": "XDhEJI-xJ8eP",
        "colab_type": "code",
        "colab": {
          "base_uri": "https://localhost:8080/",
          "height": 34
        },
        "outputId": "7db761ac-762d-49f0-ed4e-8b67b3d5c5f5"
      },
      "source": [
        "print(\"Ssss, I'm a python!\")"
      ],
      "execution_count": 15,
      "outputs": [
        {
          "output_type": "stream",
          "text": [
            "Ssss, I'm a python!\n"
          ],
          "name": "stdout"
        }
      ]
    },
    {
      "cell_type": "code",
      "metadata": {
        "id": "sjw9kwhDJ8CQ",
        "colab_type": "code",
        "colab": {
          "base_uri": "https://localhost:8080/",
          "height": 34
        },
        "outputId": "2a7f6a2f-14d7-4808-bc92-068da1780804"
      },
      "source": [
        "min(3, -2)"
      ],
      "execution_count": 13,
      "outputs": [
        {
          "output_type": "execute_result",
          "data": {
            "text/plain": [
              "-2"
            ]
          },
          "metadata": {
            "tags": []
          },
          "execution_count": 13
        }
      ]
    },
    {
      "cell_type": "code",
      "metadata": {
        "id": "olKm8BAWKJ2v",
        "colab_type": "code",
        "colab": {
          "base_uri": "https://localhost:8080/",
          "height": 34
        },
        "outputId": "e9d424bf-4f87-421b-f2f5-f3f540cd3dff"
      },
      "source": [
        "# Space matters.\n",
        "def add(x, y):\n",
        "   z = x + y\n",
        "   return z\n",
        "\n",
        "add(1, 2)"
      ],
      "execution_count": 18,
      "outputs": [
        {
          "output_type": "execute_result",
          "data": {
            "text/plain": [
              "3"
            ]
          },
          "metadata": {
            "tags": []
          },
          "execution_count": 18
        }
      ]
    },
    {
      "cell_type": "code",
      "metadata": {
        "id": "49VcVkFyKUfp",
        "colab_type": "code",
        "colab": {}
      },
      "source": [
        ""
      ],
      "execution_count": 0,
      "outputs": []
    },
    {
      "cell_type": "markdown",
      "metadata": {
        "id": "28rPD7SWK4O_",
        "colab_type": "text"
      },
      "source": [
        "# Conditionals\n",
        "\n"
      ]
    },
    {
      "cell_type": "code",
      "metadata": {
        "id": "7jraEaZ0K6mj",
        "colab_type": "code",
        "colab": {
          "base_uri": "https://localhost:8080/",
          "height": 34
        },
        "outputId": "d53098d8-e4d0-4790-de5a-faf3908e31bb"
      },
      "source": [
        "temp = -10\n",
        "if temp < 32:\n",
        "    print('It\\'s so cold here. We should move to Flordia.')\n",
        "else:\n",
        "    print('Help, I\\'m melting!')"
      ],
      "execution_count": 20,
      "outputs": [
        {
          "output_type": "stream",
          "text": [
            "It's so cold here. We should move to Flordia.\n"
          ],
          "name": "stdout"
        }
      ]
    },
    {
      "cell_type": "markdown",
      "metadata": {
        "id": "i4ZWZ6c1L8XD",
        "colab_type": "text"
      },
      "source": [
        "# For Loops"
      ]
    },
    {
      "cell_type": "code",
      "metadata": {
        "id": "_Xrae4CKLFbw",
        "colab_type": "code",
        "colab": {
          "base_uri": "https://localhost:8080/",
          "height": 85
        },
        "outputId": "a68e7da7-7935-4eb3-d394-e4459795d0ed"
      },
      "source": [
        "for i in range(1, 5): \n",
        "    print(i) \n"
      ],
      "execution_count": 25,
      "outputs": [
        {
          "output_type": "stream",
          "text": [
            "1\n",
            "2\n",
            "3\n",
            "4\n"
          ],
          "name": "stdout"
        }
      ]
    },
    {
      "cell_type": "code",
      "metadata": {
        "id": "0FwVMybLNHnr",
        "colab_type": "code",
        "colab": {
          "base_uri": "https://localhost:8080/",
          "height": 34
        },
        "outputId": "42d1fd8e-1b7c-49ec-86f4-1760649b0541"
      },
      "source": [
        "summed = 0 \n",
        "for i in range(1, 5): \n",
        "    summed += i\n",
        "\n",
        "print(f\"Summation value: {summed}\")"
      ],
      "execution_count": 24,
      "outputs": [
        {
          "output_type": "stream",
          "text": [
            "Summation value: 10\n"
          ],
          "name": "stdout"
        }
      ]
    }
  ]
}